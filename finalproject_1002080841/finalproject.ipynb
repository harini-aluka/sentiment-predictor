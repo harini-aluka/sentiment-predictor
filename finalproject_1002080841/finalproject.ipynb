{
 "cells": [
  {
   "cell_type": "code",
   "execution_count": 1,
   "metadata": {
    "colab": {
     "base_uri": "https://localhost:8080/"
    },
    "id": "DKtMSihoSUpT",
    "outputId": "ff54ac7b-63a9-4072-e11b-e9164a3dfab9"
   },
   "outputs": [
    {
     "name": "stdout",
     "output_type": "stream",
     "text": [
      "Requirement already satisfied: datasets in c:\\users\\harin\\anaconda3\\lib\\site-packages (2.11.0)\n",
      "Requirement already satisfied: responses<0.19 in c:\\users\\harin\\anaconda3\\lib\\site-packages (from datasets) (0.18.0)\n",
      "Requirement already satisfied: pyarrow>=8.0.0 in c:\\users\\harin\\anaconda3\\lib\\site-packages (from datasets) (11.0.0)\n",
      "Requirement already satisfied: aiohttp in c:\\users\\harin\\anaconda3\\lib\\site-packages (from datasets) (3.8.4)\n",
      "Requirement already satisfied: dill<0.3.7,>=0.3.0 in c:\\users\\harin\\anaconda3\\lib\\site-packages (from datasets) (0.3.6)\n",
      "Requirement already satisfied: pandas in c:\\users\\harin\\anaconda3\\lib\\site-packages (from datasets) (1.4.4)\n",
      "Requirement already satisfied: packaging in c:\\users\\harin\\anaconda3\\lib\\site-packages (from datasets) (21.3)\n",
      "Requirement already satisfied: tqdm>=4.62.1 in c:\\users\\harin\\anaconda3\\lib\\site-packages (from datasets) (4.64.1)\n",
      "Requirement already satisfied: numpy>=1.17 in c:\\users\\harin\\anaconda3\\lib\\site-packages (from datasets) (1.21.5)\n",
      "Requirement already satisfied: pyyaml>=5.1 in c:\\users\\harin\\anaconda3\\lib\\site-packages (from datasets) (6.0)\n",
      "Requirement already satisfied: requests>=2.19.0 in c:\\users\\harin\\anaconda3\\lib\\site-packages (from datasets) (2.28.1)\n",
      "Requirement already satisfied: fsspec[http]>=2021.11.1 in c:\\users\\harin\\anaconda3\\lib\\site-packages (from datasets) (2022.7.1)\n",
      "Requirement already satisfied: xxhash in c:\\users\\harin\\anaconda3\\lib\\site-packages (from datasets) (3.2.0)\n",
      "Requirement already satisfied: huggingface-hub<1.0.0,>=0.11.0 in c:\\users\\harin\\anaconda3\\lib\\site-packages (from datasets) (0.13.4)\n",
      "Requirement already satisfied: multiprocess in c:\\users\\harin\\anaconda3\\lib\\site-packages (from datasets) (0.70.14)\n",
      "Requirement already satisfied: typing-extensions>=3.7.4.3 in c:\\users\\harin\\anaconda3\\lib\\site-packages (from huggingface-hub<1.0.0,>=0.11.0->datasets) (4.3.0)\n",
      "Requirement already satisfied: filelock in c:\\users\\harin\\anaconda3\\lib\\site-packages (from huggingface-hub<1.0.0,>=0.11.0->datasets) (3.6.0)\n",
      "Requirement already satisfied: pyparsing!=3.0.5,>=2.0.2 in c:\\users\\harin\\anaconda3\\lib\\site-packages (from packaging->datasets) (3.0.9)\n",
      "Requirement already satisfied: urllib3<1.27,>=1.21.1 in c:\\users\\harin\\anaconda3\\lib\\site-packages (from requests>=2.19.0->datasets) (1.26.11)\n",
      "Requirement already satisfied: certifi>=2017.4.17 in c:\\users\\harin\\anaconda3\\lib\\site-packages (from requests>=2.19.0->datasets) (2022.9.14)\n",
      "Requirement already satisfied: idna<4,>=2.5 in c:\\users\\harin\\anaconda3\\lib\\site-packages (from requests>=2.19.0->datasets) (3.3)\n",
      "Requirement already satisfied: charset-normalizer<3,>=2 in c:\\users\\harin\\anaconda3\\lib\\site-packages (from requests>=2.19.0->datasets) (2.0.4)\n",
      "Requirement already satisfied: colorama in c:\\users\\harin\\anaconda3\\lib\\site-packages (from tqdm>=4.62.1->datasets) (0.4.5)\n",
      "Requirement already satisfied: multidict<7.0,>=4.5 in c:\\users\\harin\\anaconda3\\lib\\site-packages (from aiohttp->datasets) (6.0.4)\n",
      "Requirement already satisfied: async-timeout<5.0,>=4.0.0a3 in c:\\users\\harin\\anaconda3\\lib\\site-packages (from aiohttp->datasets) (4.0.2)\n",
      "Requirement already satisfied: attrs>=17.3.0 in c:\\users\\harin\\anaconda3\\lib\\site-packages (from aiohttp->datasets) (21.4.0)\n",
      "Requirement already satisfied: yarl<2.0,>=1.0 in c:\\users\\harin\\anaconda3\\lib\\site-packages (from aiohttp->datasets) (1.9.1)\n",
      "Requirement already satisfied: frozenlist>=1.1.1 in c:\\users\\harin\\anaconda3\\lib\\site-packages (from aiohttp->datasets) (1.3.3)\n",
      "Requirement already satisfied: aiosignal>=1.1.2 in c:\\users\\harin\\anaconda3\\lib\\site-packages (from aiohttp->datasets) (1.3.1)\n",
      "Requirement already satisfied: python-dateutil>=2.8.1 in c:\\users\\harin\\anaconda3\\lib\\site-packages (from pandas->datasets) (2.8.2)\n",
      "Requirement already satisfied: pytz>=2020.1 in c:\\users\\harin\\anaconda3\\lib\\site-packages (from pandas->datasets) (2022.1)\n",
      "Requirement already satisfied: six>=1.5 in c:\\users\\harin\\anaconda3\\lib\\site-packages (from python-dateutil>=2.8.1->pandas->datasets) (1.16.0)\n"
     ]
    }
   ],
   "source": [
    "!pip install datasets\n"
   ]
  },
  {
   "cell_type": "code",
   "execution_count": 2,
   "metadata": {
    "colab": {
     "base_uri": "https://localhost:8080/",
     "height": 381,
     "referenced_widgets": [
      "0f050f8e53f94f3fabec6df67bdcad2d",
      "fa35873e9cd94478926f710241d77a61",
      "d1df5bc83d984d51bf69da9b21ec8430",
      "c4c5f7bdcd1a446b99de63887a0aa412",
      "894527dc5b654342ad56f61535633ef8",
      "b485aa415f324b6b868452db1a0b0358",
      "84cd473cf4f54c55bd6e76837b0284a0",
      "22c0ed71ff9347159ce48cb833410295",
      "43ee0a43a7d6476a93931713f5ecb627",
      "a1497c9afd514712a84da052faae2922",
      "a286f145a3e34bad8b0e7295d8f42dcf"
     ]
    },
    "id": "cUVjF79zSJpa",
    "outputId": "72b5c6ca-3045-42e6-eae9-05b3ee092346"
   },
   "outputs": [
    {
     "data": {
      "application/vnd.jupyter.widget-view+json": {
       "model_id": "83f60ede51894d7a8147c2f4e9cf4b86",
       "version_major": 2,
       "version_minor": 0
      },
      "text/plain": [
       "Downloading metadata:   0%|          | 0.00/3.48k [00:00<?, ?B/s]"
      ]
     },
     "metadata": {},
     "output_type": "display_data"
    },
    {
     "data": {
      "application/vnd.jupyter.widget-view+json": {
       "model_id": "b45679eac871432380ff3f8980b5c06a",
       "version_major": 2,
       "version_minor": 0
      },
      "text/plain": [
       "Downloading readme:   0%|          | 0.00/11.9k [00:00<?, ?B/s]"
      ]
     },
     "metadata": {},
     "output_type": "display_data"
    },
    {
     "name": "stdout",
     "output_type": "stream",
     "text": [
      "Downloading and preparing dataset wisesight_sentiment/wisesight_sentiment to C:/Users/harin/.cache/huggingface/datasets/wisesight_sentiment/wisesight_sentiment/1.0.0/fc2b1bdfe79571b2e281e4afdb5aac069cf9270bf0f85694239be672a4191969...\n"
     ]
    },
    {
     "data": {
      "application/vnd.jupyter.widget-view+json": {
       "model_id": "35bc30890567473ebbb39ca4fc84d3a1",
       "version_major": 2,
       "version_minor": 0
      },
      "text/plain": [
       "Downloading data:   0%|          | 0.00/2.10M [00:00<?, ?B/s]"
      ]
     },
     "metadata": {},
     "output_type": "display_data"
    },
    {
     "data": {
      "application/vnd.jupyter.widget-view+json": {
       "model_id": "",
       "version_major": 2,
       "version_minor": 0
      },
      "text/plain": [
       "Generating train split:   0%|          | 0/21628 [00:00<?, ? examples/s]"
      ]
     },
     "metadata": {},
     "output_type": "display_data"
    },
    {
     "data": {
      "application/vnd.jupyter.widget-view+json": {
       "model_id": "",
       "version_major": 2,
       "version_minor": 0
      },
      "text/plain": [
       "Generating validation split:   0%|          | 0/2404 [00:00<?, ? examples/s]"
      ]
     },
     "metadata": {},
     "output_type": "display_data"
    },
    {
     "data": {
      "application/vnd.jupyter.widget-view+json": {
       "model_id": "",
       "version_major": 2,
       "version_minor": 0
      },
      "text/plain": [
       "Generating test split:   0%|          | 0/2671 [00:00<?, ? examples/s]"
      ]
     },
     "metadata": {},
     "output_type": "display_data"
    },
    {
     "name": "stdout",
     "output_type": "stream",
     "text": [
      "Dataset wisesight_sentiment downloaded and prepared to C:/Users/harin/.cache/huggingface/datasets/wisesight_sentiment/wisesight_sentiment/1.0.0/fc2b1bdfe79571b2e281e4afdb5aac069cf9270bf0f85694239be672a4191969. Subsequent calls will reuse this data.\n"
     ]
    },
    {
     "data": {
      "application/vnd.jupyter.widget-view+json": {
       "model_id": "3e6278acf14d49748c0edf97ab5492e1",
       "version_major": 2,
       "version_minor": 0
      },
      "text/plain": [
       "  0%|          | 0/3 [00:00<?, ?it/s]"
      ]
     },
     "metadata": {},
     "output_type": "display_data"
    },
    {
     "name": "stdout",
     "output_type": "stream",
     "text": [
      "Validation Set:\n",
      "Accuracy: 0.5681257706535142\n",
      "Precision: 0.7690883850069412\n",
      "F1 Score: 0.8600258238757578\n",
      "Recall: 0.9753521126188173\n",
      "\n",
      "Test Set:\n",
      "Accuracy: 0.5635018495684341\n",
      "Precision: 0.7655236329935126\n",
      "F1 Score: 0.8588510034668845\n",
      "Recall: 0.9780935464192958\n",
      "\n",
      "Actual Values\n",
      "[1, 0, 1, 1, 1, 1, 1, 2, 2, 2, 1, 1, 0, 1, 1, 0, 2, 0, 1, 1, 2, 0, 1, 1, 0, 1, 1, 1, 3, 1, 1, 0, 1, 1, 2, 1, 2, 0, 1, 0, 1, 0, 1, 2, 1, 1, 0, 1, 2, 1, 1, 1, 1, 2, 2, 2, 1, 1, 3, 0, 2, 2, 1, 2, 2, 1, 1, 0, 0, 1, 1, 1, 1, 1, 1, 1, 1, 1, 1, 1, 1, 0, 1, 0, 1, 1, 1, 1, 2, 1, 2, 1, 2, 2, 1, 1, 1, 1, 1, 0, 2, 1, 1, 1, 1, 1, 2, 1, 2, 1, 0, 1, 0, 0, 2, 1, 2, 1, 1, 2, 2, 2, 1, 1, 0, 1, 3, 2, 1, 2, 2, 1, 1, 0, 2, 1, 1, 1, 1, 1, 0, 1, 2, 1, 1, 2, 2, 1, 1, 1, 1, 2, 1, 0, 1, 1, 2, 1, 0, 1, 2, 2, 1, 1, 0, 0, 1, 2, 1, 1, 2, 0, 2, 2, 2, 0, 2, 1, 1, 2, 1, 2, 2, 1, 1, 2, 1, 0, 1, 0, 0, 3, 2, 3, 2, 2, 1, 2, 1, 1, 2, 1, 0, 1, 1, 1, 1, 1, 0, 2, 2, 2, 2, 1, 3, 0, 2, 3, 2, 1, 2, 2, 1, 2, 2, 1, 1, 1, 2, 1, 2, 0, 0, 1, 1, 1, 1, 2, 2, 2, 2, 0, 1, 0, 1, 1, 1, 1, 3, 1, 2, 2, 0, 2, 1, 1, 0, 0, 1, 2, 1, 1, 1, 2, 1, 1, 0, 0, 1, 0, 1, 0, 2, 1, 1, 1, 1, 2, 3, 0, 2, 2, 1, 1, 0, 2, 1, 1, 1, 1, 1, 1, 0, 1, 1, 2, 0, 2, 1, 0, 1, 0, 1, 1, 1, 2, 1, 1, 1, 1, 1, 0, 1, 1, 1, 1, 1, 1, 1, 1, 0, 1, 0, 2, 2, 2, 2, 0, 1, 1, 1, 2, 1, 1, 2, 1, 0, 2, 2, 1, 1, 2, 1, 1, 0, 1, 0, 1, 1, 1, 1, 0, 1, 2, 1, 1, 0, 1, 1, 1, 2, 3, 1, 0, 2, 2, 2, 0, 1, 2, 2, 0, 1, 1, 1, 2, 2, 0, 2, 0, 1, 3, 2, 1, 2, 1, 1, 1, 1, 2, 1, 1, 2, 0, 0, 0, 1, 2, 0, 3, 1, 1, 0, 1, 1, 0, 1, 2, 2, 1, 2, 2, 2, 2, 2, 2, 1, 2, 1, 1, 1, 0, 2, 1, 2, 0, 1, 1, 1, 2, 0, 1, 0, 1, 2, 1, 1, 0, 1, 1, 2, 1, 2, 1, 2, 1, 1, 2, 2, 1, 1, 1, 0, 1, 1, 1, 1, 0, 0, 1, 1, 2, 0, 0, 1, 1, 2, 1, 2, 1, 1, 2, 0, 2, 1, 1, 0, 1, 1, 1, 1, 2, 2, 1, 2, 1, 1, 3, 2, 1, 1, 1, 1, 2, 2, 1, 1, 2, 1, 2, 1, 2, 1, 1, 1, 0, 1, 0, 1, 1, 2, 1, 1, 1, 0, 1, 1, 1, 0, 0, 1, 0, 1, 0, 1, 2, 1, 1, 1, 2, 2, 2, 0, 1, 0, 3, 2, 2, 2, 1, 2, 1, 2, 1, 1, 2, 1, 0, 1, 1, 1, 1, 1, 2, 1, 0, 2, 2, 0, 1, 1, 1, 2, 1, 1, 1, 2, 1, 2, 0, 1, 0, 0, 2, 2, 0, 2, 2, 0, 1, 1, 2, 1, 2, 2, 1, 0, 1, 1, 1, 0, 1, 1, 1, 1, 1, 2, 1, 1, 2, 1, 1, 2, 2, 2, 1, 1, 1, 2, 1, 1, 1, 1, 2, 1, 2, 1, 0, 2, 1, 0, 0, 1, 0, 1, 0, 2, 2, 1, 0, 1, 1, 1, 1, 0, 1, 1, 2, 0, 1, 0, 2, 1, 2, 1, 2, 1, 1, 1, 1, 1, 0, 1, 1, 0, 1, 1, 1, 1, 1, 1, 1, 1, 2, 1, 2, 1, 1, 2, 1, 0, 1, 2, 3, 1, 1, 2, 2, 1, 1, 2, 2, 0, 1, 1, 0, 1, 1, 0, 1, 1, 0, 1, 2, 1, 3, 1, 2, 2, 1, 1, 2, 0, 1, 1, 0, 1, 1, 0, 1, 0, 1, 1, 1, 1, 1, 0, 1, 1, 1, 2, 2, 1, 1, 2, 1, 2, 1, 2, 1, 2, 1, 0, 2, 2, 1, 1, 1, 1, 3, 2, 1, 2, 1, 2, 1, 0, 1, 2, 0, 2, 1, 1, 1, 2, 2, 2, 2, 1, 2, 1, 1, 1, 1, 2, 0, 1, 0, 1, 2, 0, 2, 1, 2, 1, 2, 1, 2, 1, 1, 0, 1, 2, 1, 1, 2, 1, 1, 1, 1, 1, 2, 1, 1, 0, 1, 1, 1, 1, 2, 0, 1, 2, 1, 2, 1, 1, 1, 1, 1, 1, 0, 1, 2, 2, 1, 2, 2, 0, 0, 1, 1, 1, 1, 2, 0, 2, 1, 1, 1, 2, 0, 1, 0, 1, 1, 2, 1, 1, 2, 0, 2, 0, 0, 0, 1, 2, 1, 1, 2, 1, 1, 2, 2, 2, 0, 0, 2, 1, 2, 2, 1, 1, 1, 1, 1, 1, 1, 1, 1, 1, 0, 1, 2, 0, 2, 0, 0, 1, 1, 0, 1, 0, 1, 0, 1, 1, 1, 2, 0, 0, 2, 1, 1, 1, 2, 1, 0, 2, 0, 1, 1, 1, 0, 1, 2, 0, 1, 1, 1, 2, 2, 2, 1, 1, 1, 1, 2, 1, 1, 2, 1, 2, 2, 1, 2, 2, 1, 1, 2, 1, 1, 3, 2, 0, 0, 1, 1, 1, 1, 0, 1, 1, 2, 0, 1, 1, 1, 0, 0, 1, 1, 1, 1, 2, 2, 2, 1, 1, 2, 0, 1, 1, 1, 1, 1, 2, 2, 2, 0, 2, 3, 2, 1, 1, 0, 1, 0, 1, 1, 2, 0, 2, 1, 2, 0, 2, 1, 1, 1, 2, 0, 0, 0, 1, 0, 0, 1, 1, 1, 1, 2, 1, 1, 1, 0, 1, 1, 1, 1, 0, 1, 1, 2, 1, 1, 2, 2, 1, 2, 1, 2, 2, 1, 0, 1, 2, 0, 1, 1, 2, 0, 1, 1, 0, 2, 0, 1, 2, 1, 0, 1, 2, 1, 2, 1, 1, 1, 2, 0, 2, 1, 1, 2, 1, 1, 1, 2, 1, 1, 1, 1, 1, 1, 2, 2, 1, 2, 1, 0, 1, 1, 1, 1, 1, 1, 0, 2, 1, 2, 1, 1, 2, 0, 1, 1, 0, 0, 1, 1, 2, 2, 1, 1, 0, 1, 0, 1, 1, 0, 1, 1, 1, 1, 1, 1, 1, 1, 0, 1, 0, 2, 1, 0, 1, 1, 1, 0, 0, 1, 2, 1, 1, 3, 2, 1, 0, 1, 0, 0, 2, 1, 0, 3, 2, 2, 2, 1, 1, 1, 1, 0, 2, 2, 2, 2, 3, 0, 2, 2, 1, 2, 0, 1, 1, 1, 1, 1, 1, 1, 2, 0, 1, 2, 1, 0, 2, 1, 1, 1, 2, 0, 1, 3, 2, 1, 0, 1, 1, 1, 0, 0, 0, 1, 1, 0, 2, 1, 1, 1, 0, 1, 2, 2, 0, 1, 2, 1, 1, 1, 1, 1, 1, 1, 2, 2, 1, 0, 3, 2, 1, 2, 1, 2, 1, 1, 0, 2, 1, 2, 1, 2, 2, 1, 0, 0, 1, 2, 2, 2, 2, 1, 0, 1, 0, 1, 1, 1, 1, 1, 0, 0, 0, 1, 1, 0, 2, 1, 0, 2, 2, 1, 1, 1, 2, 0, 1, 2, 1, 1, 0, 1, 2, 1, 0, 1, 2, 1, 1, 1, 1, 1, 2, 1, 0, 1, 1, 2, 1, 2, 1, 1, 1, 0, 1, 0, 1, 1, 2, 1, 0, 1, 2, 1, 1, 0, 1, 1, 1, 1, 2, 1, 1, 0, 0, 1, 1, 1, 1, 2, 2, 1, 0, 1, 0, 0, 0, 2, 1, 1, 1, 1, 1, 2, 0, 2, 1, 1, 0, 1, 1, 1, 2, 1, 1, 1, 1, 1, 1, 2, 1, 1, 1, 0, 0, 2, 1, 1, 0, 2, 1, 2, 1, 2, 1, 2, 1, 2, 2, 3, 2, 2, 1, 1, 1, 0, 1, 1, 2, 1, 1, 1, 2, 2, 1, 1, 1, 2, 1, 1, 0, 1, 1, 1, 1, 1, 2, 2, 2, 2, 1, 1, 1, 3, 0, 1, 1, 0, 1, 1, 3, 1, 1, 0, 1, 1, 1, 1, 1, 1, 1, 1, 1, 0, 3, 0, 1, 1, 1, 1, 0, 0, 1, 2, 1, 2, 1, 1, 1, 1, 1, 1, 0, 0, 1, 1, 1, 1, 2, 2, 2, 2, 0, 2, 1, 0, 2, 2, 2, 0, 1, 1, 2, 2, 2, 1, 1, 1, 1, 2, 1, 1, 1, 2, 2, 2, 1, 1, 0, 1, 0, 1, 2, 0, 2, 2, 1, 2, 1, 1, 0, 1, 1, 1, 0, 1, 1, 2, 1, 1, 2, 1, 1, 1, 1, 1, 1, 2, 1, 0, 2, 1, 1, 2, 0, 1, 1, 1, 3, 0, 1, 1, 1, 2, 2, 1, 1, 1, 0, 2, 1, 1, 1, 2, 0, 1, 0, 1, 1, 2, 2, 1, 1, 0, 1, 2, 2, 1, 2, 1, 0, 1, 1, 1, 1, 1, 2, 3, 2, 0, 1, 2, 1, 0, 0, 1, 0, 2, 2, 2, 1, 1, 1, 1, 0, 1, 2, 2, 2, 2, 1, 1, 2, 1, 1, 0, 1, 1, 1, 1, 1, 0, 0, 1, 2, 1, 2, 1, 0, 2, 0, 0, 2, 0, 1, 0, 3, 1, 0, 0, 1, 1, 1, 1, 1, 0, 1, 1, 2, 0, 1, 1, 1, 2, 2, 1, 1, 1, 2, 0, 1, 1, 1, 2, 1, 2, 1, 2, 1, 0, 2, 1, 0, 0, 1, 0, 1, 0, 1, 0, 1, 1, 1, 0, 1, 1, 2, 2, 1, 1, 1, 1, 2, 1, 1, 1, 2, 3, 2, 0, 2, 0, 1, 2, 1, 1, 1, 1, 2, 2, 1, 2, 1, 0, 1, 1, 1, 1, 1, 0, 2, 1, 1, 1, 2, 0, 0, 2, 0, 2, 2, 1, 1, 2, 1, 2, 1, 2, 0, 0, 1, 1, 2, 2, 0, 1, 1, 1, 2, 1, 2, 1, 2, 1, 0, 1, 1, 1, 2, 1, 1, 1, 1, 1, 1, 2, 2, 0, 1, 0, 2, 1, 1, 1, 3, 1, 2, 1, 1, 1, 2, 2, 0, 1, 1, 1, 2, 2, 1, 1, 2, 0, 0, 1, 1, 1, 1, 1, 2, 1, 1, 2, 1, 1, 2, 2, 1, 1, 1, 2, 1, 2, 1, 1, 2, 0, 1, 1, 2, 2, 1, 0, 2, 3, 1, 1, 0, 2, 1, 2, 2, 1, 1, 1, 1, 2, 1, 0, 2, 2, 0, 0, 1, 1, 3, 2, 2, 2, 0, 1, 0, 1, 1, 1, 1, 1, 1, 1, 1, 2, 2, 2, 2, 0, 1, 1, 1, 2, 1, 0, 1, 1, 1, 2, 1, 1, 0, 1, 0, 2, 2, 1, 2, 0, 1, 1, 0, 2, 1, 2, 2, 2, 2, 0, 1, 2, 1, 2, 1, 2, 1, 1, 1, 1, 1, 1, 2, 1, 0, 1, 1, 1, 0, 1, 2, 2, 2, 0, 1, 1, 1, 2, 2, 1, 2, 1, 0, 1, 2, 2, 1, 1, 2, 2, 0, 1, 1, 1, 1, 1, 2, 0, 1, 1, 1, 1, 1, 0, 2, 1, 2, 2, 1, 1, 0, 2, 0, 1, 1, 0, 1, 1, 1, 1, 1, 3, 2, 2, 1, 1, 1, 2, 1, 1, 2, 1, 1, 0, 0, 0, 1, 1, 1, 2, 1, 0, 2, 2, 1, 0, 2, 2, 1, 1, 2, 1, 1, 1, 1, 1, 1, 0, 2, 2, 2, 1, 0, 1, 2, 1, 1, 1, 1, 2, 0, 1, 2, 1, 2, 2, 1, 1, 1, 2, 1, 2, 1, 2, 1, 2, 2, 2, 0, 0, 0, 1, 2, 1, 1, 2, 1, 1, 3, 1, 1, 1, 1, 2, 3, 1, 1, 0, 0, 1, 1, 2, 1, 1, 1, 1, 3, 1, 1, 1, 2, 2, 1, 2, 2, 0, 2, 0, 0, 1, 1, 2, 0, 0, 1, 1, 1, 1, 2, 2, 1, 1, 1, 0, 0, 3, 1, 1, 1, 1, 1, 1, 1, 2, 0, 0, 0, 1, 0, 1, 1, 3, 1, 0, 2, 0, 1, 2, 2, 1, 1, 2, 1, 0, 3, 0, 2, 1, 0, 1, 1, 1, 1, 2, 1, 1, 1, 1, 1, 0, 1, 2, 1, 1, 1, 3, 1, 2, 2, 2, 2, 2, 1, 2, 1, 1, 3, 0, 0, 1, 1, 1, 1, 3, 1, 0, 1, 1, 3, 1, 1, 1, 2, 1, 1, 0, 1, 1, 2, 1, 1, 2, 2, 0, 2, 2, 0, 1, 1, 2, 1, 0, 1, 2, 0, 3, 2, 2, 1, 1, 2, 1, 1, 1, 2, 2, 0, 2, 1, 1, 1, 1, 0, 1, 1, 0, 1, 1, 3, 1, 2, 0, 2, 1, 1, 1, 1, 1, 1, 2, 1, 1, 1, 0, 1, 2, 1, 1, 2, 1, 3, 0, 1, 1, 2, 2, 2, 2, 2, 1, 1, 1, 2, 1, 0, 2, 2, 1, 1, 2, 1, 1, 2, 1, 1, 2, 1, 2, 0, 2, 0, 2, 2, 1, 0, 0, 1, 1, 0, 2, 2, 1, 0, 2, 3, 1, 2, 2, 2, 1, 2, 2, 2, 2, 0, 0, 2, 0, 1, 2, 2, 1, 2, 0, 0, 1, 2, 1, 1, 0, 0, 0, 1, 1, 2, 2, 1, 0, 0, 0, 1, 2, 0, 1, 1, 1, 1, 1, 0, 2, 0, 1, 1, 2, 2, 1, 1, 1, 1, 2, 1, 1, 1, 1, 1, 0, 1, 2, 0, 3, 2, 0, 1, 1, 1, 3, 1, 1, 1, 2, 1, 1, 1, 1, 2, 1, 2, 1, 1, 1, 0, 0, 1, 2, 0, 1, 1, 1, 1, 2, 1, 1, 2, 3, 1, 1, 2, 1, 1, 1, 1, 0, 1, 2, 1, 2, 1, 1, 2, 1, 0, 0, 1, 1, 2, 1, 1, 2, 2, 2, 1, 1, 2, 2, 1, 2, 1, 0, 3, 1, 1, 1, 1, 0, 2, 1, 2, 2, 1, 2, 2, 1, 1, 1, 1, 2, 1, 0, 2, 0, 1, 1, 0, 1, 1, 1, 1, 1, 1, 1, 1, 1, 1, 0, 1, 1, 2, 0, 1, 1, 1, 0, 1, 1, 1, 0, 2, 0, 1, 1, 1, 2, 1, 0, 1, 1, 2, 1, 1, 0, 1, 1, 1, 0, 2, 0, 1, 1, 0, 0, 1, 2, 0, 1, 0, 1, 1, 1, 1, 1, 0, 0, 2, 1, 2, 2, 1, 2, 1, 2, 1, 1, 1, 0, 1, 2, 2, 2, 0, 0, 0, 1, 0, 1, 1, 1, 1, 3, 1, 1, 1, 2, 1, 2, 1, 1, 0, 1, 1, 1, 0, 2, 1, 1, 1, 0, 0, 2, 0, 1, 1, 1, 2, 1, 1, 1, 0, 2, 1, 1, 1, 1, 3, 1, 2, 1, 1, 2, 1, 1, 1, 1, 1, 2, 0, 1, 1, 1, 1, 2, 1, 0, 2, 1, 1, 1, 2, 1, 1, 1, 1, 1, 2, 1, 1, 0, 2, 1, 1, 2, 1, 1, 1, 0, 2, 1, 1, 2, 3, 1, 1, 2, 0, 3, 1, 1, 2, 2, 1, 0, 2, 2, 0, 2, 2, 0, 1, 1, 1, 2, 0, 1, 1, 1, 2, 2, 2, 2, 2, 0, 2, 2, 1, 2, 1, 1, 1, 1, 0, 1, 0, 1, 1, 1, 2, 1, 1, 1, 0, 1, 0, 1, 2, 2, 0, 1, 0, 1, 0, 1, 0, 1, 1, 2, 1, 0, 1, 2, 0, 1, 0, 1, 1, 1, 2, 1, 1, 0, 1, 1, 1, 1, 1, 1, 1, 0, 1, 1, 1, 2, 1, 2, 1, 1, 1, 1, 1, 3, 2, 1, 1, 0, 2, 2, 1, 2, 1, 0, 1, 2, 1, 1, 0, 0, 2, 2, 1, 3, 2, 0, 1, 1, 1, 1, 1, 2, 1, 2, 1, 2, 1, 0, 0, 1, 0, 1, 1, 1, 2, 1, 0, 1, 1, 0, 1, 2, 1, 2, 1, 3, 0, 2, 1, 1, 2, 1, 1, 1, 2, 2, 2, 1, 1, 1, 0, 0, 1, 1, 2, 1, 1, 0, 2, 2, 1, 1, 1, 1, 1, 1, 1, 1, 1, 2, 1, 2, 2, 1, 0, 0, 0, 0, 1, 2, 2, 2, 1, 1, 1, 2, 2, 1, 1, 1, 1, 1, 1, 1, 1, 1, 2, 1, 0, 1, 2, 0, 2, 1, 1, 1, 2, 1, 1, 1, 1, 2, 1, 1, 0, 1, 1, 2, 1, 0, 0, 1, 1, 0, 3, 0, 1, 2, 1, 1, 1, 1, 1, 1, 0, 2, 2, 0, 0, 1, 1, 0, 2, 2, 2, 2, 0, 1, 0, 0, 2, 0, 1, 1, 2, 1, 1, 1, 2, 2, 2, 1, 0, 1, 2, 0, 1, 1, 1, 1, 1, 1, 2, 0, 2, 1, 0, 1, 0, 1, 1, 2, 1, 0, 0, 1, 0, 1, 1, 1, 2, 1, 1, 1, 1, 1, 1, 2, 1, 2, 2, 2, 0, 1, 0, 1, 1, 1, 2, 1, 1, 2, 2, 0, 0, 1, 1, 2, 0, 1, 2, 2, 0, 1, 1, 1, 2, 3, 2, 2, 2, 1, 1, 2, 0, 3, 1, 2, 1, 1, 1, 0, 0, 0, 0, 0, 1, 2, 2, 1, 1, 2, 2, 1, 1, 1, 0, 1, 1, 2, 2, 1, 1, 2, 1, 1, 1, 2, 0, 1, 2, 1, 2, 0, 1, 0, 2, 1, 1, 0, 2, 1, 0, 0, 1, 1, 1, 1, 1, 1, 1, 2, 1, 2, 2, 1, 2, 1, 1, 1, 0, 0, 2, 2, 1, 1, 0, 2, 1, 1, 2, 1, 0, 0, 1, 0, 2, 0, 1, 2, 2, 2, 1, 0, 2, 2, 1, 2, 1, 1, 1, 1, 1, 1, 2, 2, 1, 1, 2, 1, 0, 0, 0, 1, 1, 2, 0, 2, 2, 2, 1, 2, 1, 1, 1, 1, 3, 1, 0, 1, 2, 1, 2, 2, 1, 2, 1, 1, 1, 1, 2, 0, 2, 1, 1, 1, 1, 1, 1, 1, 1, 0, 1, 1, 1, 1, 1, 2, 1, 1, 1, 1, 2, 1, 1, 1, 1, 2, 2, 2, 1, 1, 1, 0, 1, 0, 2, 1, 2, 1, 1, 2, 2, 2, 1, 2, 1, 0, 1, 1, 1, 1, 1, 1, 2, 1, 1, 0, 1, 1, 1, 1, 0, 1, 2, 1, 1, 2, 3, 2, 1, 2, 0, 1, 2, 2, 1, 0, 1, 0, 2, 1, 1, 2, 3, 2, 0, 3, 2, 1, 1, 1, 1, 2, 0, 1, 1, 2, 1, 0, 1, 2, 0, 1, 1, 0, 2, 1, 2, 1, 2, 1, 1, 1, 2, 1, 1, 1, 1, 1, 2, 2, 3, 1, 1, 2, 1, 1, 1, 1, 2, 1, 1, 1, 0, 1, 1, 0, 2, 1, 2, 0, 1, 1, 1, 1, 1, 1, 1, 2, 2, 1, 1, 1, 1, 1, 1, 0, 1, 0, 1, 0, 2, 2, 0, 1, 1, 2, 1, 2, 0, 1, 2, 1, 1, 2, 1, 2, 0, 1, 2, 1, 1, 1, 1, 1, 1, 1, 0, 1, 1, 1, 0, 0, 2, 1]\n",
      "\n",
      "Predicted values\n",
      "[1, 1, 1, 1, 1, 1, 1, 1, 1, 1, 1, 1, 1, 1, 1, 1, 1, 1, 1, 1, 1, 1, 1, 1, 1, 1, 1, 1, 1, 1, 1, 1, 1, 1, 1, 1, 1, 1, 1, 1, 1, 1, 1, 1, 1, 1, 1, 1, 1, 1, 1, 2, 1, 1, 2, 1, 1, 1, 1, 1, 1, 1, 1, 1, 2, 1, 1, 1, 1, 1, 1, 1, 1, 1, 0, 1, 1, 1, 1, 1, 1, 1, 1, 0, 1, 1, 1, 1, 1, 1, 1, 1, 2, 1, 1, 1, 1, 1, 1, 1, 1, 2, 1, 1, 1, 1, 1, 1, 1, 1, 1, 1, 1, 1, 2, 1, 1, 1, 1, 1, 1, 1, 1, 1, 1, 1, 1, 1, 1, 2, 1, 1, 0, 1, 1, 1, 1, 1, 1, 1, 1, 1, 1, 1, 1, 1, 1, 1, 1, 1, 1, 1, 1, 1, 1, 1, 1, 1, 1, 1, 1, 1, 1, 1, 1, 1, 1, 1, 1, 1, 1, 1, 2, 1, 2, 1, 1, 1, 1, 1, 1, 1, 0, 1, 1, 1, 0, 0, 1, 1, 1, 1, 1, 1, 2, 1, 1, 1, 1, 1, 1, 1, 1, 1, 1, 1, 1, 1, 1, 1, 1, 2, 1, 2, 1, 1, 2, 1, 2, 1, 1, 1, 1, 1, 2, 1, 1, 1, 1, 1, 1, 1, 1, 1, 1, 1, 1, 1, 1, 1, 1, 1, 2, 1, 1, 1, 1, 1, 1, 1, 1, 1, 1, 1, 1, 1, 1, 1, 1, 1, 1, 1, 1, 1, 1, 1, 1, 1, 1, 1, 1, 1, 1, 1, 1, 1, 1, 1, 2, 1, 2, 1, 2, 1, 1, 1, 1, 1, 1, 1, 1, 1, 1, 1, 1, 1, 1, 1, 1, 1, 1, 2, 1, 1, 1, 1, 1, 1, 1, 1, 1, 1, 1, 0, 1, 2, 1, 1, 1, 1, 1, 1, 1, 1, 1, 1, 2, 1, 1, 1, 1, 1, 1, 1, 2, 1, 1, 1, 1, 1, 0, 1, 1, 1, 0, 1, 1, 2, 1, 1, 1, 1, 1, 1, 1, 1, 1, 1, 1, 1, 2, 1, 1, 1, 1, 1, 1, 1, 1, 1, 1, 1, 1, 1, 0, 2, 1, 1, 1, 1, 1, 1, 1, 1, 1, 1, 1, 1, 1, 1, 1, 1, 1, 1, 1, 1, 1, 2, 0, 1, 1, 1, 1, 1, 1, 1, 1, 1, 1, 1, 1, 1, 2, 1, 1, 1, 1, 1, 1, 1, 1, 2, 1, 1, 2, 1, 1, 1, 1, 1, 1, 1, 1, 1, 1, 1, 1, 1, 1, 1, 1, 1, 1, 1, 1, 1, 1, 1, 1, 1, 1, 1, 1, 1, 1, 1, 1, 1, 1, 1, 1, 1, 1, 1, 1, 1, 1, 1, 1, 1, 1, 1, 1, 1, 1, 2, 1, 1, 1, 1, 1, 1, 1, 1, 1, 1, 1, 1, 1, 1, 1, 1, 1, 1, 1, 1, 1, 1, 1, 1, 1, 1, 1, 1, 1, 1, 1, 1, 1, 1, 1, 1, 1, 1, 1, 1, 1, 1, 0, 1, 2, 1, 1, 1, 1, 1, 1, 1, 1, 2, 1, 1, 1, 1, 1, 1, 1, 1, 1, 1, 2, 1, 2, 1, 1, 1, 1, 1, 1, 1, 2, 2, 1, 1, 0, 1, 1, 1, 1, 1, 1, 1, 1, 1, 1, 1, 1, 1, 1, 1, 1, 0, 1, 1, 1, 1, 1, 1, 1, 1, 1, 1, 1, 2, 1, 1, 1, 1, 1, 1, 1, 1, 1, 1, 1, 1, 2, 1, 1, 2, 1, 1, 2, 1, 1, 1, 1, 1, 2, 1, 1, 1, 1, 1, 1, 1, 1, 1, 1, 1, 1, 1, 1, 1, 1, 1, 1, 2, 1, 1, 1, 1, 0, 1, 1, 2, 2, 2, 1, 1, 1, 0, 1, 1, 1, 1, 1, 1, 1, 1, 1, 1, 1, 1, 1, 1, 1, 1, 1, 1, 1, 1, 1, 1, 1, 1, 1, 1, 2, 1, 1, 1, 1, 1, 1, 1, 1, 1, 1, 1, 1, 1, 1, 1, 1, 1, 1, 1, 0, 1, 1, 1, 1, 1, 1, 1, 1, 1, 1, 1, 1, 1, 1, 1, 1, 1, 1, 1, 1, 1, 1, 1, 1, 2, 1, 1, 1, 0, 1, 1, 1, 2, 1, 1, 1, 1, 1, 1, 1, 1, 1, 1, 1, 1, 1, 1, 1, 1, 1, 1, 1, 1, 1, 1, 1, 1, 1, 1, 1, 1, 1, 1, 2, 0, 1, 1, 1, 1, 1, 1, 1, 1, 1, 1, 1, 1, 1, 1, 1, 1, 1, 1, 1, 1, 1, 1, 1, 1, 1, 1, 1, 1, 1, 1, 1, 2, 1, 1, 1, 1, 1, 1, 1, 1, 1, 1, 1, 1, 1, 1, 1, 1, 1, 1, 2, 2, 1, 1, 1, 1, 1, 1, 1, 1, 2, 1, 1, 1, 1, 1, 1, 1, 1, 1, 2, 0, 1, 1, 1, 1, 1, 1, 1, 0, 1, 2, 1, 1, 1, 1, 1, 1, 0, 1, 1, 1, 1, 1, 1, 1, 1, 1, 1, 2, 1, 1, 1, 1, 1, 1, 1, 1, 2, 1, 1, 0, 1, 1, 1, 2, 1, 2, 1, 1, 1, 1, 1, 1, 1, 1, 1, 1, 1, 1, 1, 1, 1, 1, 1, 1, 1, 2, 2, 1, 1, 2, 1, 0, 1, 2, 1, 2, 1, 1, 1, 1, 1, 1, 1, 1, 1, 1, 1, 1, 1, 1, 1, 1, 1, 1, 1, 0, 2, 2, 1, 1, 1, 1, 1, 2, 1, 1, 1, 1, 1, 1, 1, 1, 1, 1, 1, 1, 1, 1, 1, 1, 1, 1, 1, 1, 1, 1, 1, 1, 1, 1, 1, 1, 1, 0, 1, 1, 1, 1, 1, 1, 1, 1, 1, 1, 1, 1, 1, 1, 1, 1, 1, 1, 1, 2, 1, 1, 1, 1, 1, 1, 1, 1, 1, 1, 1, 1, 1, 1, 1, 1, 1, 1, 1, 1, 1, 2, 1, 1, 1, 1, 1, 1, 1, 1, 1, 1, 1, 1, 1, 1, 1, 1, 1, 1, 1, 2, 1, 2, 1, 1, 1, 1, 1, 1, 1, 1, 1, 1, 1, 1, 1, 1, 1, 1, 1, 1, 1, 1, 1, 1, 1, 1, 1, 1, 1, 1, 1, 1, 1, 1, 1, 2, 1, 2, 1, 1, 1, 2, 1, 1, 1, 2, 1, 1, 1, 1, 1, 1, 1, 1, 2, 1, 1, 1, 1, 1, 1, 1, 1, 1, 1, 1, 1, 1, 1, 1, 0, 0, 1, 1, 1, 1, 0, 1, 1, 1, 1, 1, 1, 1, 1, 1, 1, 1, 1, 1, 1, 1, 1, 1, 1, 1, 1, 1, 1, 1, 1, 1, 2, 1, 1, 1, 1, 1, 1, 1, 0, 1, 1, 1, 1, 1, 1, 2, 1, 0, 0, 1, 1, 1, 1, 1, 1, 1, 1, 1, 1, 1, 1, 1, 1, 1, 1, 1, 1, 1, 2, 1, 1, 1, 2, 1, 1, 1, 1, 1, 1, 1, 1, 1, 0, 1, 1, 1, 1, 1, 1, 1, 1, 0, 2, 1, 1, 1, 0, 1, 1, 1, 0, 1, 1, 1, 1, 1, 1, 1, 1, 1, 1, 1, 1, 1, 1, 1, 1, 1, 1, 1, 1, 1, 1, 1, 1, 1, 1, 1, 1, 1, 1, 1, 1, 1, 2, 1, 1, 1, 1, 1, 1, 1, 1, 1, 1, 1, 2, 1, 1, 1, 1, 0, 1, 1, 1, 1, 1, 1, 1, 1, 1, 1, 1, 1, 1, 1, 0, 1, 1, 1, 1, 1, 1, 1, 1, 1, 1, 1, 1, 1, 0, 1, 1, 1, 1, 1, 1, 2, 1, 1, 1, 1, 1, 1, 1, 1, 1, 1, 2, 0, 1, 1, 1, 1, 1, 1, 1, 1, 1, 0, 1, 1, 1, 1, 1, 1, 1, 1, 1, 1, 1, 1, 1, 1, 1, 1, 1, 1, 1, 1, 1, 1, 1, 1, 1, 1, 1, 1, 1, 1, 1, 1, 1, 1, 1, 1, 1, 1, 1, 1, 1, 1, 1, 1, 1, 2, 1, 1, 1, 1, 1, 1, 1, 1, 1, 1, 2, 1, 1, 1, 1, 1, 1, 1, 1, 1, 1, 1, 1, 1, 1, 1, 1, 1, 1, 1, 1, 1, 1, 2, 1, 1, 1, 2, 1, 1, 1, 1, 1, 1, 1, 1, 1, 1, 1, 1, 1, 1, 1, 0, 2, 1, 1, 1, 1, 1, 1, 1, 1, 1, 1, 1, 1, 1, 1, 1, 1, 1, 1, 1, 1, 1, 1, 1, 1, 1, 0, 1, 1, 0, 1, 1, 1, 1, 1, 1, 1, 1, 1, 1, 1, 1, 1, 1, 2, 1, 1, 1, 1, 1, 2, 1, 1, 1, 1, 1, 1, 1, 1, 1, 1, 1, 0, 1, 1, 1, 1, 1, 1, 1, 1, 1, 1, 1, 1, 1, 1, 1, 1, 1, 1, 1, 1, 1, 1, 1, 0, 1, 1, 1, 1, 1, 1, 1, 1, 0, 1, 1, 1, 1, 1, 1, 1, 1, 1, 1, 1, 1, 1, 1, 1, 1, 1, 0, 1, 1, 1, 0, 1, 1, 1, 1, 1, 1, 1, 1, 2, 1, 1, 1, 1, 1, 2, 1, 1, 2, 1, 1, 1, 1, 1, 1, 1, 1, 1, 1, 1, 2, 1, 1, 1, 1, 1, 1, 1, 1, 1, 1, 1, 1, 1, 1, 1, 1, 1, 1, 1, 1, 1, 1, 1, 0, 1, 1, 1, 1, 1, 1, 0, 1, 1, 1, 1, 1, 1, 0, 1, 1, 1, 1, 1, 1, 1, 1, 1, 1, 1, 1, 1, 1, 2, 1, 1, 1, 1, 1, 1, 1, 1, 1, 1, 1, 1, 1, 2, 1, 1, 1, 1, 1, 1, 1, 1, 1, 1, 1, 1, 1, 0, 1, 1, 1, 1, 1, 1, 1, 1, 1, 1, 1, 1, 1, 2, 1, 1, 1, 1, 1, 1, 1, 1, 1, 1, 1, 1, 1, 1, 1, 1, 1, 1, 1, 1, 1, 1, 1, 1, 1, 1, 1, 1, 1, 1, 1, 1, 1, 1, 1, 1, 1, 1, 1, 1, 1, 1, 1, 1, 1, 1, 1, 1, 2, 1, 2, 1, 1, 1, 1, 2, 1, 1, 0, 1, 1, 1, 1, 1, 1, 1, 1, 1, 0, 1, 1, 1, 1, 1, 1, 1, 1, 1, 1, 1, 1, 1, 1, 2, 1, 1, 1, 1, 2, 1, 1, 1, 1, 1, 1, 1, 1, 1, 1, 1, 0, 1, 1, 1, 0, 1, 1, 1, 1, 1, 1, 1, 1, 0, 1, 1, 1, 1, 1, 1, 1, 1, 1, 1, 2, 1, 1, 1, 1, 1, 1, 1, 1, 2, 1, 2, 1, 1, 1, 2, 1, 1, 1, 1, 1, 1, 1, 1, 1, 1, 1, 1, 1, 1, 1, 1, 1, 1, 1, 1, 1, 1, 1, 1, 1, 1, 1, 1, 1, 1, 1, 1, 1, 1, 2, 2, 1, 1, 1, 1, 2, 1, 0, 1, 1, 1, 1, 1, 1, 1, 1, 1, 2, 1, 1, 1, 1, 1, 1, 1, 1, 1, 1, 1, 1, 1, 1, 1, 1, 1, 1, 1, 1, 1, 1, 1, 1, 1, 1, 1, 0, 1, 1, 1, 1, 1, 1, 2, 1, 1, 1, 1, 1, 1, 1, 1, 1, 2, 1, 1, 1, 1, 1, 1, 1, 1, 1, 0, 1, 1, 1, 0, 2, 2, 1, 1, 1, 0, 1, 1, 1, 1, 1, 2, 1, 1, 1, 0, 1, 0, 1, 1, 1, 1, 1, 1, 1, 1, 1, 1, 2, 1, 1, 1, 1, 1, 1, 1, 1, 1, 1, 1, 1, 1, 1, 1, 1, 1, 1, 1, 2, 1, 1, 2, 1, 1, 1, 2, 1, 1, 1, 1, 1, 1, 1, 1, 1, 1, 1, 1, 1, 1, 1, 1, 1, 2, 1, 1, 1, 1, 1, 1, 1, 1, 1, 1, 1, 1, 1, 1, 1, 1, 1, 1, 1, 1, 1, 1, 2, 1, 1, 1, 1, 1, 1, 1, 1, 1, 1, 1, 1, 1, 1, 1, 1, 0, 1, 1, 1, 1, 1, 1, 1, 1, 1, 1, 1, 1, 1, 1, 1, 1, 1, 2, 1, 1, 1, 1, 1, 1, 1, 1, 1, 1, 0, 1, 1, 1, 1, 1, 1, 1, 1, 1, 1, 1, 1, 1, 1, 1, 1, 1, 1, 1, 2, 1, 1, 1, 1, 1, 1, 1, 1, 1, 1, 1, 1, 1, 1, 1, 1, 1, 1, 1, 1, 0, 1, 1, 1, 1, 2, 1, 1, 1, 1, 1, 1, 1, 1, 1, 1, 1, 1, 1, 1, 1, 1, 1, 1, 1, 1, 1, 1, 1, 1, 1, 1, 1, 1, 1, 1, 1, 2, 1, 1, 1, 1, 2, 1, 1, 1, 1, 1, 1, 1, 1, 1, 1, 1, 1, 1, 1, 2, 1, 1, 1, 1, 1, 1, 1, 2, 1, 1, 2, 1, 1, 1, 1, 1, 1, 1, 0, 1, 1, 1, 1, 1, 1, 1, 1, 1, 1, 1, 1, 0, 1, 1, 1, 1, 2, 1, 1, 1, 1, 2, 1, 1, 1, 1, 1, 1, 1, 1, 1, 0, 1, 1, 1, 1, 1, 1, 1, 1, 1, 2, 2, 1, 1, 1, 1, 1, 1, 1, 2, 1, 2, 1, 1, 1, 1, 2, 1, 1, 1, 2, 1, 1, 1, 1, 2, 1, 1, 1, 1, 1, 1, 1, 1, 1, 1, 1, 1, 1, 1, 1, 1, 1, 2, 1, 1, 2, 2, 1, 1, 1, 1, 1, 1, 1, 1, 1, 1, 1, 1, 1, 2, 1, 1, 1, 1, 1, 1, 1, 1, 1, 1, 1, 1, 1, 2, 1, 1, 1, 1, 1, 1, 1, 1, 1, 1, 2, 1, 1, 1, 1, 1, 1, 1, 1, 1, 1, 1, 1, 0, 1, 1, 2, 1, 0, 1, 1, 1, 1, 1, 1, 1, 2, 1, 1, 1, 1, 1, 1, 1, 0, 1, 1, 1, 1, 1, 2, 1, 1, 1, 1, 1, 1, 1, 1, 1, 1, 1, 1, 1, 1, 1, 1, 1, 1, 1, 2, 1, 1, 1, 1, 1, 1, 1, 1, 1, 2, 1, 1, 1, 2, 1, 1, 1, 1, 1, 1, 1, 1, 1, 1, 1, 1, 1, 1, 1, 0, 1, 1, 1, 1, 1, 1, 2, 1, 1, 1, 1, 1, 1, 1, 2, 1, 1, 1, 1, 1, 1, 1, 1, 1, 1, 1, 1, 1, 1, 1, 1, 1, 1, 1, 1, 1, 1, 1, 1, 1, 1, 1, 1, 1, 1, 1, 1, 1, 1, 1, 1, 1, 1, 1, 1, 1, 1, 1, 2, 1, 1, 1, 1, 1, 1, 1, 1, 1, 1, 1, 1, 1, 1, 1, 1, 1, 1, 1, 1, 1, 1, 1, 1, 1, 1, 1, 1, 1, 1, 1, 1, 1, 1, 1, 1, 0, 1, 1, 1, 1, 2, 1, 1, 1, 1, 1, 1, 1, 1, 1, 2, 1, 1, 1, 1, 1, 1, 0, 1, 1, 1, 1, 1, 1, 1, 1, 1, 1, 1, 1, 1, 1, 1, 1, 1, 1, 1, 1, 1, 1, 1, 1, 1, 1, 1, 1, 1, 2, 1, 1, 1, 1, 0, 1, 1, 1, 1, 1, 1, 1, 1, 1, 1, 3, 1, 1, 1, 1, 1, 1, 1, 1, 1, 1, 1, 1, 1, 2, 1, 1, 1, 1, 1, 1, 2, 1, 1, 1, 1, 1, 1, 0, 1, 1, 1, 1, 1, 1, 1, 2, 1, 1, 1, 1, 1, 1, 1, 1, 1, 1, 1, 0, 1, 1, 1, 1, 1, 1, 0, 1, 1, 1, 1, 2, 1, 1, 1, 1, 1, 1, 1, 1, 1, 1, 0, 1, 1, 2, 1, 2, 1, 1, 1, 1, 1, 1, 1, 2, 1, 1, 1, 1, 1, 1, 1, 1, 1, 2, 1, 1, 1, 1, 1, 2, 1, 1, 1, 1, 1, 1, 1, 1, 1, 1, 1, 1, 1, 1, 1, 1, 1, 1, 1, 1, 2, 1, 1, 1, 1, 1, 1, 2, 1, 1, 1, 1, 1, 1, 1, 1, 2, 1, 1, 1, 1, 1, 1, 1, 1, 1, 1, 1, 1, 1, 1, 1, 1, 1, 1, 1, 1, 1, 1, 1, 1, 1, 1, 1, 1, 1, 1, 1, 1, 2, 1, 1, 0, 1, 1, 1, 1, 1, 2, 1, 1, 1, 1, 1, 1, 1, 1, 1, 1, 1, 2, 1, 1, 1, 1, 1, 1, 1, 1, 1, 1, 2, 2, 1, 1, 2, 1, 1, 1, 1, 1, 0, 1, 1, 1, 1, 1, 2, 1, 1, 1, 2, 2, 1, 1, 1, 1, 1, 1, 1, 1, 1, 1, 1, 0, 1, 1, 1, 2, 1, 1, 1, 1, 1, 1, 1, 1, 1, 1, 1, 1, 1, 1, 1, 1, 1, 1, 1, 1, 1, 1, 1, 2, 1, 1, 1, 1, 1, 1, 1, 1, 1, 1, 1, 1, 1, 1, 1, 1, 2, 1, 1, 1, 1, 1, 1, 1, 1, 1, 1, 1, 1, 1, 1, 1, 1, 1, 1, 1, 1, 1, 1, 1, 1, 2, 1, 1, 1, 1, 1, 1, 1, 0, 2, 1, 1, 1, 1, 1, 1, 1, 1, 1, 1, 1, 1, 1, 1, 1, 1, 1, 1, 0, 1, 1, 0, 1, 1, 1, 1, 1, 1, 1, 1, 1, 1, 1, 1, 1, 0, 1, 1, 1, 1, 1, 1, 2, 2, 1, 1, 1, 2, 1, 2, 1, 2, 1, 1, 1, 1, 0, 2, 1, 1, 1, 1, 1, 1, 1, 1, 1, 1, 1, 1, 1, 1, 1, 1, 1, 1, 1, 1, 1, 2, 1, 1, 1, 1, 1, 1, 2, 1, 1, 1, 1, 1, 1, 1, 1, 1, 1, 1, 1, 1, 1, 1, 1, 1, 1, 1, 1, 1, 1, 1, 1, 1, 1, 1, 1, 1, 1, 1, 1, 1, 1, 1, 1, 1, 1, 2, 1, 1, 1, 1, 1, 1, 1, 1, 1, 1, 1, 1, 1, 0, 1, 1, 1, 1, 1, 1, 2, 1, 1, 1, 1, 1, 1, 1, 0, 1, 1, 1, 1, 1, 1, 1, 1, 1, 1, 1, 1, 1, 1, 1, 1, 1, 1, 1, 1, 1, 1, 1, 1, 1, 1, 1, 1, 1, 2, 1, 1, 2, 1, 1, 1, 1, 1, 1, 2, 1, 1, 1, 1, 1, 1, 0, 1, 1, 1, 1, 1, 1, 1, 1, 1, 1, 1, 1, 1, 1, 1, 1, 1, 2, 1, 1, 1, 1, 1, 1, 1, 1, 1, 1, 1, 1, 1, 2, 1, 1, 1, 1, 1, 1, 1, 1, 1, 1, 1, 1, 1, 1, 1, 1, 1, 1, 1, 1, 1, 1, 1, 1, 1, 2, 1, 1, 1, 1, 1, 1, 1, 1, 1, 1, 1, 1, 1, 1, 1, 1, 1, 2, 1, 1, 2, 1, 1, 1, 1, 1, 0, 1, 1, 2, 1, 1, 1, 1, 1, 1, 1, 1, 1, 1, 1, 1, 1, 1, 1, 1, 1, 1, 1, 1, 1, 1, 1, 1, 1, 1, 1, 1, 1, 1, 1, 2, 1, 1, 1, 1, 1, 1, 1, 1, 1, 1, 1, 1, 1, 1, 1, 1, 1, 2, 1, 1, 1, 1, 1, 1, 1, 1, 1, 1, 1, 0, 1, 0, 2, 1, 1, 1, 1, 1, 1, 2, 1, 1, 1, 1, 1, 1, 1, 1, 1, 1, 1, 1, 1, 1, 1, 1, 1, 2, 1, 1, 1, 1, 1, 1, 1, 1]\n"
     ]
    }
   ],
   "source": [
    "# Importing libraries\n",
    "\n",
    "from datasets import load_dataset # Importing the dataset through cloud \n",
    "\n",
    "stop_words = set(['i', 'me', 'my', 'myself', 'we', 'our', 'ours', 'ourselves', 'you', 'your', 'yours', 'yourself', 'yourselves', 'he', 'him', 'his', 'himself', 'she', 'her', 'hers', 'herself', 'it', 'its', 'itself', 'they', 'them', 'their', 'theirs', 'themselves', 'what', 'which', 'who', 'whom', 'this', 'that', 'these', 'those', 'am', 'is', 'are', 'was', 'were', 'be', 'been', 'being', 'have', 'has', 'had', 'having', 'do', 'does', 'did', 'doing', 'a', 'an', 'the', 'and', 'but', 'if', 'or', 'because', 'as', 'until', 'while', 'of', 'at', 'by', 'for', 'with', 'about', 'against', 'between', 'into', 'through', 'during', 'before', 'after', 'above', 'below', 'to', 'from', 'up', 'down', 'in', 'out', 'on', 'off', 'over', 'under', 'again', 'further', 'then', 'once', 'here', 'there', 'when', 'where', 'why', 'how', 'all', 'any', 'both', 'each', 'few', 'more', 'most', 'other', 'some', 'such', 'no', 'nor', 'not', 'only', 'own', 'same', 'so', 'than', 'too', 'very', 's', 't', 'can', 'will', 'just', 'don', 'should', 'now'])\n",
    "\n",
    "# load the dataset\n",
    "dataset = load_dataset(\"wisesight_sentiment\")\n",
    "\n",
    "# define a function to preprocess the text data\n",
    "def preprocess(text):\n",
    "    # convert all text to lowercase\n",
    "    text = text.lower()\n",
    "    # remove all non-alphabetic characters\n",
    "    text = ''.join(c for c in text if c.isalpha() or c.isspace())\n",
    "    # split the text into tokens\n",
    "    tokens = text.split()\n",
    "    # remove stop words\n",
    "    tokens = [token for token in tokens if token not in stop_words]\n",
    "    return tokens\n",
    "\n",
    "# split the dataset into training, validation, and test sets\n",
    "def split_dataset(data, split_ratio):\n",
    "    # Calculate the sizes of each dataset based on the split ratios\n",
    "    train_size = int(len(data) * split_ratio[0])\n",
    "    val_size = int(len(data) * split_ratio[1])\n",
    "    test_size = int(len(data) * split_ratio[2])\n",
    "    # Split the data into the three datasets based on their sizes\n",
    "    train_data = data[:train_size] \n",
    "    val_data = data[train_size:train_size+val_size]\n",
    "    test_data = data[train_size+val_size:train_size+val_size+test_size]\n",
    "    # Return the three datasets as separate variables\n",
    "    return train_data, val_data, test_data\n",
    "\n",
    "\n",
    "\n",
    "# Define split_ratio for train, validation and test data\n",
    "split_ratio = [0.7, 0.15, 0.15]\n",
    "\n",
    "# Combine the 'texts' and 'category' fields of the training dataset using zip() function\n",
    "# to create a list of tuples with each tuple containing the text and its corresponding category label\n",
    "data = list(zip(dataset['train']['texts'], dataset['train']['category']))\n",
    "\n",
    "# Split the data into train, validation and test sets based on the split_ratio\n",
    "train_data, val_data, test_data = split_dataset(data, split_ratio)\n",
    "\n",
    "# Unzip the train_data tuples to separate the 'texts' and 'category' fields into two separate lists\n",
    "train_texts, labels_train = zip(*train_data)\n",
    "\n",
    "# Calculate the prior probability of each class in the training set\n",
    "# by counting the number of occurrences of each class and dividing by the total number of samples\n",
    "# The prior probability gives the likelihood of a sample belonging to a particular class without any knowledge of its features\n",
    "classes = set(labels_train)\n",
    "class_count = {c: 0 for c in classes}\n",
    "for label in labels_train:\n",
    "    class_count[label] += 1\n",
    "prior_prob = {c: count/len(labels_train) for c, count in class_count.items()}\n",
    "\n",
    "\n",
    "\n",
    "\n",
    "# calculate the conditional probabilities of each word given each class\n",
    "vocab = set()\n",
    "word_count = {c: {} for c in classes}\n",
    "for text, label in train_data:\n",
    "    tokens = preprocess(text)\n",
    "    for token in tokens:\n",
    "        vocab.add(token)\n",
    "        if token in word_count[label]:\n",
    "            word_count[label][token] += 1\n",
    "        else:\n",
    "            word_count[label][token] = 1\n",
    "\n",
    "\n",
    "\n",
    "cond_prob = {c: {} for c in classes}\n",
    "for label in classes:\n",
    "    total_words = sum(word_count[label].values())\n",
    "    for word in vocab:\n",
    "        if word in word_count[label]:\n",
    "            count = word_count[label][word]\n",
    "        else:\n",
    "            count = 0\n",
    "        cond_prob[label][word] = (count + 1) / (total_words + len(vocab))\n",
    "\n",
    "\n",
    "\n",
    "# classify the validation and test sets\n",
    "\n",
    "# This function classifies a given 'text' into one of the classes based on the maximum score calculated using Naive Bayes algorithm\n",
    "# It takes in the preprocessed 'text', 'vocab' (vocabulary of words present in the training set), 'prior_prob' (prior probabilities of each class in the training set)\n",
    "# and 'cond_prob' (conditional probabilities of each word given its class in the training set)\n",
    "\n",
    "# First, the function tokenizes the given 'text' using preprocess() function\n",
    "\n",
    "# Then, the function initializes a dictionary 'scores' with the prior probabilities of each class\n",
    "# and iterates over each class and each token in the 'tokens' list\n",
    "# If the token is present in the 'vocab', it multiplies the current score of the class by the conditional probability of the token given its class\n",
    "# Finally, it returns the label of the class with the maximum score as the predicted class for the given 'text'\n",
    "\n",
    "def classify(text, vocab, prior_prob, cond_prob):\n",
    "    tokens = preprocess(text)\n",
    "    scores = prior_prob.copy()\n",
    "    for label in prior_prob:\n",
    "        for token in tokens:\n",
    "            if token in vocab:\n",
    "                scores[label] *= cond_prob[label][token]\n",
    "    return max(scores, key=scores.get)\n",
    "\n",
    "\n",
    "\n",
    "\n",
    "# Create a list 'val_labels_true' and 'test_labels_true' to store the true labels of the validation and test set respectively\n",
    "val_labels_true = [label for _, label in val_data]\n",
    "test_labels_true = [label for _, label in test_data]\n",
    "\n",
    "\n",
    "\n",
    "\n",
    "# Create a list 'val_labels_pred' and 'test_labels_pred' to store the predicted labels of the validation and test set respectively\n",
    "# using the 'classify()' function defined earlier with the 'vocab', 'prior_prob', and 'cond_prob'\n",
    "val_labels_pred = [classify(text, vocab, prior_prob, cond_prob) for text, _ in val_data]\n",
    "test_labels_pred = [classify(text, vocab, prior_prob, cond_prob) for text, _ in test_data]\n",
    "\n",
    "\n",
    "\n",
    "\n",
    "# Define the 'accuracy()' function to calculate the accuracy of the predicted labels\n",
    "# It takes in the true labels 'labels_true' and predicted labels 'labels_pred' as inputs\n",
    "# The function counts the number of correctly classified samples and returns the accuracy as the ratio of the number of correct predictions to the total number of predictions\n",
    "def accuracy(labels_true, labels_pred):\n",
    "    correct = sum(1 for true, pred in zip(labels_true, labels_pred) if true == pred)\n",
    "    total = len(labels_true)\n",
    "    return correct / total\n",
    "\n",
    "\n",
    "# Define the 'precision()' function to calculate the precision of the predicted labels\n",
    "# It takes in the true labels 'labels_true' and predicted labels 'labels_pred' as inputs\n",
    "# The function counts the number of true positives (tp) and false positives (fp) and returns the precision as the ratio of tp to the sum of tp and fp\n",
    "# Precision is a metric that evaluates how many of the predicted positives are actually true positives\n",
    "def precision(labels_true, labels_pred):\n",
    "    tp = 0\n",
    "    fp = 0\n",
    "    for i in range(len(labels_true)):\n",
    "        if labels_pred[i] == 1 and labels_true[i] == 1:\n",
    "            tp += 1\n",
    "        elif labels_pred[i] == 1 and labels_true[i] == 0:\n",
    "            fp += 1\n",
    "    if tp + fp == 0:\n",
    "        return 0\n",
    "    else:\n",
    "        return tp / (tp + fp)\n",
    "\n",
    "def calculate_f1_score(predictions, targets):\n",
    "    true_positives = 0\n",
    "    false_positives = 0\n",
    "    false_negatives = 0\n",
    "    \n",
    "    for pred, target in zip(predictions, targets):\n",
    "        if pred == 1 and target == 1:\n",
    "            true_positives += 1\n",
    "        elif pred == 1 and target == 0:\n",
    "            false_positives += 1\n",
    "        elif pred == 0 and target == 1:\n",
    "            false_negatives += 1\n",
    "    \n",
    "    precision = true_positives / (true_positives + false_positives + 1e-7)\n",
    "    recall = true_positives / (true_positives + false_negatives + 1e-7)\n",
    "    f1_score = 2 * (precision * recall) / (precision + recall + 1e-7)\n",
    "    \n",
    "    return f1_score, recall\n",
    "\n",
    "# Print the accuracy and precision of the classifier on the validation and test sets using the 'accuracy()' and 'precision()' functions\n",
    "# The predicted labels are stored in the lists 'val_labels_pred' and 'test_labels_pred' respectively\n",
    "print(\"Validation Set:\")\n",
    "print(\"Accuracy:\", accuracy(val_labels_true, val_labels_pred))\n",
    "print(\"Precision:\", precision(val_labels_true, val_labels_pred))\n",
    "f1,recall=calculate_f1_score(val_labels_pred,val_labels_true)\n",
    "print(\"F1 Score:\", f1)\n",
    "print(\"Recall:\", recall)\n",
    "\n",
    "\n",
    "print(\"\\nTest Set:\")\n",
    "print(\"Accuracy:\", accuracy(test_labels_true, test_labels_pred))\n",
    "print(\"Precision:\", precision(test_labels_true, test_labels_pred))\n",
    "f1,recall=calculate_f1_score(test_labels_pred,test_labels_true)\n",
    "\n",
    "print(\"F1 Score:\", f1)\n",
    "print(\"Recall:\", recall)\n",
    "\n",
    "# Print the actual and predicted labels of the test set for visual inspection\n",
    "print()\n",
    "print(\"Actual Values\")\n",
    "print(test_labels_true)\n",
    "print()\n",
    "print(\"Predicted values\")\n",
    "print(test_labels_pred)\n",
    "\n",
    "\n"
   ]
  },
  {
   "cell_type": "code",
   "execution_count": null,
   "metadata": {
    "id": "Qf6z1YC3Fu78"
   },
   "outputs": [],
   "source": []
  }
 ],
 "metadata": {
  "colab": {
   "provenance": []
  },
  "kernelspec": {
   "display_name": "Python 3 (ipykernel)",
   "language": "python",
   "name": "python3"
  },
  "language_info": {
   "codemirror_mode": {
    "name": "ipython",
    "version": 3
   },
   "file_extension": ".py",
   "mimetype": "text/x-python",
   "name": "python",
   "nbconvert_exporter": "python",
   "pygments_lexer": "ipython3",
   "version": "3.9.13"
  },
  "widgets": {
   "application/vnd.jupyter.widget-state+json": {
    "0f050f8e53f94f3fabec6df67bdcad2d": {
     "model_module": "@jupyter-widgets/controls",
     "model_module_version": "1.5.0",
     "model_name": "HBoxModel",
     "state": {
      "_dom_classes": [],
      "_model_module": "@jupyter-widgets/controls",
      "_model_module_version": "1.5.0",
      "_model_name": "HBoxModel",
      "_view_count": null,
      "_view_module": "@jupyter-widgets/controls",
      "_view_module_version": "1.5.0",
      "_view_name": "HBoxView",
      "box_style": "",
      "children": [
       "IPY_MODEL_fa35873e9cd94478926f710241d77a61",
       "IPY_MODEL_d1df5bc83d984d51bf69da9b21ec8430",
       "IPY_MODEL_c4c5f7bdcd1a446b99de63887a0aa412"
      ],
      "layout": "IPY_MODEL_894527dc5b654342ad56f61535633ef8"
     }
    },
    "22c0ed71ff9347159ce48cb833410295": {
     "model_module": "@jupyter-widgets/base",
     "model_module_version": "1.2.0",
     "model_name": "LayoutModel",
     "state": {
      "_model_module": "@jupyter-widgets/base",
      "_model_module_version": "1.2.0",
      "_model_name": "LayoutModel",
      "_view_count": null,
      "_view_module": "@jupyter-widgets/base",
      "_view_module_version": "1.2.0",
      "_view_name": "LayoutView",
      "align_content": null,
      "align_items": null,
      "align_self": null,
      "border": null,
      "bottom": null,
      "display": null,
      "flex": null,
      "flex_flow": null,
      "grid_area": null,
      "grid_auto_columns": null,
      "grid_auto_flow": null,
      "grid_auto_rows": null,
      "grid_column": null,
      "grid_gap": null,
      "grid_row": null,
      "grid_template_areas": null,
      "grid_template_columns": null,
      "grid_template_rows": null,
      "height": null,
      "justify_content": null,
      "justify_items": null,
      "left": null,
      "margin": null,
      "max_height": null,
      "max_width": null,
      "min_height": null,
      "min_width": null,
      "object_fit": null,
      "object_position": null,
      "order": null,
      "overflow": null,
      "overflow_x": null,
      "overflow_y": null,
      "padding": null,
      "right": null,
      "top": null,
      "visibility": null,
      "width": null
     }
    },
    "43ee0a43a7d6476a93931713f5ecb627": {
     "model_module": "@jupyter-widgets/controls",
     "model_module_version": "1.5.0",
     "model_name": "ProgressStyleModel",
     "state": {
      "_model_module": "@jupyter-widgets/controls",
      "_model_module_version": "1.5.0",
      "_model_name": "ProgressStyleModel",
      "_view_count": null,
      "_view_module": "@jupyter-widgets/base",
      "_view_module_version": "1.2.0",
      "_view_name": "StyleView",
      "bar_color": null,
      "description_width": ""
     }
    },
    "84cd473cf4f54c55bd6e76837b0284a0": {
     "model_module": "@jupyter-widgets/controls",
     "model_module_version": "1.5.0",
     "model_name": "DescriptionStyleModel",
     "state": {
      "_model_module": "@jupyter-widgets/controls",
      "_model_module_version": "1.5.0",
      "_model_name": "DescriptionStyleModel",
      "_view_count": null,
      "_view_module": "@jupyter-widgets/base",
      "_view_module_version": "1.2.0",
      "_view_name": "StyleView",
      "description_width": ""
     }
    },
    "894527dc5b654342ad56f61535633ef8": {
     "model_module": "@jupyter-widgets/base",
     "model_module_version": "1.2.0",
     "model_name": "LayoutModel",
     "state": {
      "_model_module": "@jupyter-widgets/base",
      "_model_module_version": "1.2.0",
      "_model_name": "LayoutModel",
      "_view_count": null,
      "_view_module": "@jupyter-widgets/base",
      "_view_module_version": "1.2.0",
      "_view_name": "LayoutView",
      "align_content": null,
      "align_items": null,
      "align_self": null,
      "border": null,
      "bottom": null,
      "display": null,
      "flex": null,
      "flex_flow": null,
      "grid_area": null,
      "grid_auto_columns": null,
      "grid_auto_flow": null,
      "grid_auto_rows": null,
      "grid_column": null,
      "grid_gap": null,
      "grid_row": null,
      "grid_template_areas": null,
      "grid_template_columns": null,
      "grid_template_rows": null,
      "height": null,
      "justify_content": null,
      "justify_items": null,
      "left": null,
      "margin": null,
      "max_height": null,
      "max_width": null,
      "min_height": null,
      "min_width": null,
      "object_fit": null,
      "object_position": null,
      "order": null,
      "overflow": null,
      "overflow_x": null,
      "overflow_y": null,
      "padding": null,
      "right": null,
      "top": null,
      "visibility": null,
      "width": null
     }
    },
    "a1497c9afd514712a84da052faae2922": {
     "model_module": "@jupyter-widgets/base",
     "model_module_version": "1.2.0",
     "model_name": "LayoutModel",
     "state": {
      "_model_module": "@jupyter-widgets/base",
      "_model_module_version": "1.2.0",
      "_model_name": "LayoutModel",
      "_view_count": null,
      "_view_module": "@jupyter-widgets/base",
      "_view_module_version": "1.2.0",
      "_view_name": "LayoutView",
      "align_content": null,
      "align_items": null,
      "align_self": null,
      "border": null,
      "bottom": null,
      "display": null,
      "flex": null,
      "flex_flow": null,
      "grid_area": null,
      "grid_auto_columns": null,
      "grid_auto_flow": null,
      "grid_auto_rows": null,
      "grid_column": null,
      "grid_gap": null,
      "grid_row": null,
      "grid_template_areas": null,
      "grid_template_columns": null,
      "grid_template_rows": null,
      "height": null,
      "justify_content": null,
      "justify_items": null,
      "left": null,
      "margin": null,
      "max_height": null,
      "max_width": null,
      "min_height": null,
      "min_width": null,
      "object_fit": null,
      "object_position": null,
      "order": null,
      "overflow": null,
      "overflow_x": null,
      "overflow_y": null,
      "padding": null,
      "right": null,
      "top": null,
      "visibility": null,
      "width": null
     }
    },
    "a286f145a3e34bad8b0e7295d8f42dcf": {
     "model_module": "@jupyter-widgets/controls",
     "model_module_version": "1.5.0",
     "model_name": "DescriptionStyleModel",
     "state": {
      "_model_module": "@jupyter-widgets/controls",
      "_model_module_version": "1.5.0",
      "_model_name": "DescriptionStyleModel",
      "_view_count": null,
      "_view_module": "@jupyter-widgets/base",
      "_view_module_version": "1.2.0",
      "_view_name": "StyleView",
      "description_width": ""
     }
    },
    "b485aa415f324b6b868452db1a0b0358": {
     "model_module": "@jupyter-widgets/base",
     "model_module_version": "1.2.0",
     "model_name": "LayoutModel",
     "state": {
      "_model_module": "@jupyter-widgets/base",
      "_model_module_version": "1.2.0",
      "_model_name": "LayoutModel",
      "_view_count": null,
      "_view_module": "@jupyter-widgets/base",
      "_view_module_version": "1.2.0",
      "_view_name": "LayoutView",
      "align_content": null,
      "align_items": null,
      "align_self": null,
      "border": null,
      "bottom": null,
      "display": null,
      "flex": null,
      "flex_flow": null,
      "grid_area": null,
      "grid_auto_columns": null,
      "grid_auto_flow": null,
      "grid_auto_rows": null,
      "grid_column": null,
      "grid_gap": null,
      "grid_row": null,
      "grid_template_areas": null,
      "grid_template_columns": null,
      "grid_template_rows": null,
      "height": null,
      "justify_content": null,
      "justify_items": null,
      "left": null,
      "margin": null,
      "max_height": null,
      "max_width": null,
      "min_height": null,
      "min_width": null,
      "object_fit": null,
      "object_position": null,
      "order": null,
      "overflow": null,
      "overflow_x": null,
      "overflow_y": null,
      "padding": null,
      "right": null,
      "top": null,
      "visibility": null,
      "width": null
     }
    },
    "c4c5f7bdcd1a446b99de63887a0aa412": {
     "model_module": "@jupyter-widgets/controls",
     "model_module_version": "1.5.0",
     "model_name": "HTMLModel",
     "state": {
      "_dom_classes": [],
      "_model_module": "@jupyter-widgets/controls",
      "_model_module_version": "1.5.0",
      "_model_name": "HTMLModel",
      "_view_count": null,
      "_view_module": "@jupyter-widgets/controls",
      "_view_module_version": "1.5.0",
      "_view_name": "HTMLView",
      "description": "",
      "description_tooltip": null,
      "layout": "IPY_MODEL_a1497c9afd514712a84da052faae2922",
      "placeholder": "​",
      "style": "IPY_MODEL_a286f145a3e34bad8b0e7295d8f42dcf",
      "value": " 3/3 [00:00&lt;00:00, 90.62it/s]"
     }
    },
    "d1df5bc83d984d51bf69da9b21ec8430": {
     "model_module": "@jupyter-widgets/controls",
     "model_module_version": "1.5.0",
     "model_name": "FloatProgressModel",
     "state": {
      "_dom_classes": [],
      "_model_module": "@jupyter-widgets/controls",
      "_model_module_version": "1.5.0",
      "_model_name": "FloatProgressModel",
      "_view_count": null,
      "_view_module": "@jupyter-widgets/controls",
      "_view_module_version": "1.5.0",
      "_view_name": "ProgressView",
      "bar_style": "success",
      "description": "",
      "description_tooltip": null,
      "layout": "IPY_MODEL_22c0ed71ff9347159ce48cb833410295",
      "max": 3,
      "min": 0,
      "orientation": "horizontal",
      "style": "IPY_MODEL_43ee0a43a7d6476a93931713f5ecb627",
      "value": 3
     }
    },
    "fa35873e9cd94478926f710241d77a61": {
     "model_module": "@jupyter-widgets/controls",
     "model_module_version": "1.5.0",
     "model_name": "HTMLModel",
     "state": {
      "_dom_classes": [],
      "_model_module": "@jupyter-widgets/controls",
      "_model_module_version": "1.5.0",
      "_model_name": "HTMLModel",
      "_view_count": null,
      "_view_module": "@jupyter-widgets/controls",
      "_view_module_version": "1.5.0",
      "_view_name": "HTMLView",
      "description": "",
      "description_tooltip": null,
      "layout": "IPY_MODEL_b485aa415f324b6b868452db1a0b0358",
      "placeholder": "​",
      "style": "IPY_MODEL_84cd473cf4f54c55bd6e76837b0284a0",
      "value": "100%"
     }
    }
   }
  }
 },
 "nbformat": 4,
 "nbformat_minor": 1
}
